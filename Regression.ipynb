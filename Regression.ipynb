{
 "cells": [
  {
   "cell_type": "markdown",
   "metadata": {},
   "source": [
    "# Regression"
   ]
  },
  {
   "cell_type": "markdown",
   "metadata": {},
   "source": [
    "As always we must first import the libraries that we need:"
   ]
  },
  {
   "cell_type": "code",
   "execution_count": 1,
   "metadata": {},
   "outputs": [],
   "source": [
    "import numpy as np\n",
    "import pandas as pd\n",
    "import matplotlib.pyplot as plt\n",
    "import random"
   ]
  },
  {
   "cell_type": "markdown",
   "metadata": {},
   "source": [
    "If we want to make a function that graphs a straight line we could do so like this:"
   ]
  },
  {
   "cell_type": "code",
   "execution_count": 2,
   "metadata": {},
   "outputs": [],
   "source": [
    "# declare function called linear_line\n",
    "# function takes an array fro the x values,\n",
    "# and a number for the slope (m) and the \n",
    "# y-intercept(b), then returns an array of y values\n",
    "\n",
    "def linear_line(x, m, b): # declaration of function\n",
    "    return m*x + b #function returns y = m*x + b\n"
   ]
  },
  {
   "cell_type": "markdown",
   "metadata": {},
   "source": [
    "If I would like to make a line with a slope of 4 and a y-intercept of 2:"
   ]
  },
  {
   "cell_type": "code",
   "execution_count": 3,
   "metadata": {},
   "outputs": [],
   "source": [
    "m = 4 # set m (slope) equal to 4\n",
    "b = 2 # set b (y-intercept) equal to 2\n",
    "\n",
    "# the numpy arrange function is of the \n",
    "# form np.arrange(start, end, increment)\n",
    "x = np.arange(1, 21, 1) # create numpy array from 1 to 21 in increments \n",
    "                        # of 1\n",
    "\n",
    "# create y that corresponds to x using the linear_line(x, m, b)\n",
    "y = linear_line(x, m, b)"
   ]
  },
  {
   "cell_type": "code",
   "execution_count": 4,
   "metadata": {},
   "outputs": [
    {
     "data": {
      "text/plain": [
       "[<matplotlib.lines.Line2D at 0x7f7c3af1f640>]"
      ]
     },
     "execution_count": 4,
     "metadata": {},
     "output_type": "execute_result"
    },
    {
     "data": {
      "image/png": "[encoded data removed]",
      "text/plain": [
       "<Figure size 432x288 with 1 Axes>"
      ]
     },
     "metadata": {
      "needs_background": "light"
     },
     "output_type": "display_data"
    }
   ],
   "source": [
    "# plot the points as a scatter plot and as a line\n",
    "plt.scatter(x, y)\n",
    "plt.plot(x, y, color='red')"
   ]
  },
  {
   "cell_type": "markdown",
   "metadata": {},
   "source": [
    "But what if I had a bunch of data points and wanted to get a line?"
   ]
  },
  {
   "cell_type": "code",
   "execution_count": 5,
   "metadata": {},
   "outputs": [],
   "source": [
    "# import the stats module from scipy\n",
    "from scipy import stats"
   ]
  },
  {
   "cell_type": "code",
   "execution_count": 6,
   "metadata": {},
   "outputs": [
    {
     "data": {
      "text/plain": [
       "LinregressResult(slope=4.0, intercept=2.0, rvalue=1.0, pvalue=9.49609375000032e-179, stderr=0.0, intercept_stderr=0.0)"
      ]
     },
     "execution_count": 6,
     "metadata": {},
     "output_type": "execute_result"
    }
   ],
   "source": [
    "# run linear regression on the (x, y) points we made\n",
    "stats.linregress(x, y)"
   ]
  },
  {
   "cell_type": "markdown",
   "metadata": {},
   "source": [
    "This function tells us what the slope is but we already knew that. Let's add some randomness to our data and see what happens:"
   ]
  },
  {
   "cell_type": "code",
   "execution_count": 7,
   "metadata": {},
   "outputs": [],
   "source": [
    "# create random noise using np.random.normal(mean, st. dev., #points)\n",
    "noise = np.random.normal(3, 3, 20)\n",
    "\n",
    "# add the random noise to y\n",
    "noisy_y = y + noise"
   ]
  },
  {
   "cell_type": "code",
   "execution_count": 8,
   "metadata": {},
   "outputs": [
    {
     "data": {
      "text/plain": [
       "[<matplotlib.lines.Line2D at 0x7f7c587d4550>]"
      ]
     },
     "execution_count": 8,
     "metadata": {},
     "output_type": "execute_result"
    },
    {
     "data": {
      "image/png": "[encoded data removed]",
      "text/plain": [
       "<Figure size 432x288 with 1 Axes>"
      ]
     },
     "metadata": {
      "needs_background": "light"
     },
     "output_type": "display_data"
    }
   ],
   "source": [
    "# plot the new points and the old regression line\n",
    "plt.scatter(x, noisy_y)\n",
    "plt.plot(x, y)"
   ]
  },
  {
   "cell_type": "markdown",
   "metadata": {},
   "source": [
    "Our line doesn't look like such a good fit for the data anymore, so let's find a new one:"
   ]
  },
  {
   "cell_type": "code",
   "execution_count": 9,
   "metadata": {},
   "outputs": [
    {
     "name": "stdout",
     "output_type": "stream",
     "text": [
      "LinregressResult(slope=3.954077542954003, intercept=4.612231801462286, rvalue=0.9966419893325636, pvalue=5.0936585778003446e-21, stderr=0.0765703945223102, intercept_stderr=0.917248130569297)\n"
     ]
    }
   ],
   "source": [
    "# run linear regression on the new data\n",
    "new_line = stats.linregress(x, noisy_y)\n",
    "\n",
    "# Look at output\n",
    "print(new_line)"
   ]
  },
  {
   "cell_type": "markdown",
   "metadata": {},
   "source": [
    "We can see that the first item in the list is the slope and the second is the intercept therefore:"
   ]
  },
  {
   "cell_type": "code",
   "execution_count": 10,
   "metadata": {},
   "outputs": [
    {
     "name": "stdout",
     "output_type": "stream",
     "text": [
      "slope =  3.954077542954003 , y-int =  4.612231801462286\n"
     ]
    }
   ],
   "source": [
    "# Grab the slope and y-intercept as the first and second \n",
    "# elements of new_line\n",
    "slope = new_line[0]\n",
    "y_int = new_line[1]\n",
    "\n",
    "print(\"slope = \", slope, \", y-int = \", y_int)"
   ]
  },
  {
   "cell_type": "code",
   "execution_count": 11,
   "metadata": {},
   "outputs": [
    {
     "data": {
      "text/plain": [
       "[<matplotlib.lines.Line2D at 0x7f7c3afef970>]"
      ]
     },
     "execution_count": 11,
     "metadata": {},
     "output_type": "execute_result"
    },
    {
     "data": {
      "image/png": "[encoded data removed]",
      "text/plain": [
       "<Figure size 432x288 with 1 Axes>"
      ]
     },
     "metadata": {
      "needs_background": "light"
     },
     "output_type": "display_data"
    }
   ],
   "source": [
    "# plot a scatterplot of the noisy data\n",
    "plt.scatter(x, noisy_y)\n",
    "\n",
    "\n",
    "# plot the new line\n",
    "plt.plot(x, linear_line(x, slope, y_int))\n",
    "\n",
    "#plot the original line\n",
    "plt.plot(x, y)"
   ]
  },
  {
   "cell_type": "markdown",
   "metadata": {},
   "source": [
    "Now, what if we have more complicated lines? Say quadratic, or exponential? Let's try another function with a linear trend first before exploring these other options:"
   ]
  },
  {
   "cell_type": "code",
   "execution_count": 12,
   "metadata": {},
   "outputs": [],
   "source": [
    "from scipy.optimize import curve_fit"
   ]
  },
  {
   "cell_type": "markdown",
   "metadata": {},
   "source": [
    "Let's make some random data again:"
   ]
  },
  {
   "cell_type": "code",
   "execution_count": 13,
   "metadata": {},
   "outputs": [
    {
     "data": {
      "text/plain": [
       "<matplotlib.collections.PathCollection at 0x7f7c29477400>"
      ]
     },
     "execution_count": 13,
     "metadata": {},
     "output_type": "execute_result"
    },
    {
     "data": {
      "image/png": "[encoded data removed]",
      "text/plain": [
       "<Figure size 432x288 with 1 Axes>"
      ]
     },
     "metadata": {
      "needs_background": "light"
     },
     "output_type": "display_data"
    }
   ],
   "source": [
    "# make a line with slope = 5 and y-int = 2\n",
    "y = linear_line(x, 5, 2)\n",
    "\n",
    "# add noise to y\n",
    "y = y + np.random.normal(3, 5, 20)\n",
    "\n",
    "# plot the noisy data points\n",
    "plt.scatter(x,y)"
   ]
  },
  {
   "cell_type": "markdown",
   "metadata": {},
   "source": [
    "And now we can use curve_fit on our linear function:"
   ]
  },
  {
   "cell_type": "code",
   "execution_count": 14,
   "metadata": {},
   "outputs": [
    {
     "name": "stdout",
     "output_type": "stream",
     "text": [
      "[5.09732769 2.59744598]\n",
      "[[ 0.04737656 -0.49745387]\n",
      " [-0.49745387  6.79853707]]\n"
     ]
    }
   ],
   "source": [
    "# the curve_fit function take in three variables: \n",
    "# a function that defines the type of line, the \n",
    "# x values of the data, and the y values of the data\n",
    "\n",
    "# the curve_fit function returns two objects: an array\n",
    "# of the coefficients and an array of covariants, which \n",
    "# can help determine the error\n",
    "\n",
    "opt, cov = curve_fit(linear_line, x, y)\n",
    "\n",
    "print(opt)\n",
    "print(cov)"
   ]
  },
  {
   "cell_type": "code",
   "execution_count": 15,
   "metadata": {},
   "outputs": [
    {
     "data": {
      "text/plain": [
       "[<matplotlib.lines.Line2D at 0x7f7bf8032340>]"
      ]
     },
     "execution_count": 15,
     "metadata": {},
     "output_type": "execute_result"
    },
    {
     "data": {
      "image/png": "[encoded data removed]",
      "text/plain": [
       "<Figure size 432x288 with 1 Axes>"
      ]
     },
     "metadata": {
      "needs_background": "light"
     },
     "output_type": "display_data"
    }
   ],
   "source": [
    "# plot (x,y) data as scatterplot\n",
    "plt.scatter(x, y)\n",
    "\n",
    "# plot regression line\n",
    "plt.plot(x, linear_line(x, opt[0], opt[1]))"
   ]
  },
  {
   "cell_type": "markdown",
   "metadata": {},
   "source": [
    "Let's try some other types of functions. Here are some function definitions:"
   ]
  },
  {
   "cell_type": "code",
   "execution_count": 16,
   "metadata": {},
   "outputs": [],
   "source": [
    "# Definition for linear line function\n",
    "def linear_line(x, m, b):\n",
    "    y = m*x + b\n",
    "    return y\n",
    "\n",
    "# definition for quadratic line function\n",
    "def quadratic_line(x, a, b, c):\n",
    "    y = a*(x**2) + b*x + c\n",
    "    return y\n",
    "\n",
    "# definition for exponential line function\n",
    "def exponential_line(x, a, b, c):\n",
    "    y = a*np.exp(b*x) + c\n",
    "    return y\n",
    "\n",
    "# definition for log line function\n",
    "# For log you will need to change x to x+1 so\n",
    "# that you are not dividing by zero!\n",
    "def log_line(x, a, b, c):\n",
    "    y = a*np.log(b*x) + c\n",
    "    return y"
   ]
  },
  {
   "cell_type": "code",
   "execution_count": null,
   "metadata": {},
   "outputs": [],
   "source": []
  },
  {
   "cell_type": "code",
   "execution_count": 17,
   "metadata": {},
   "outputs": [
    {
     "data": {
      "text/plain": [
       "<matplotlib.collections.PathCollection at 0x7f7c3b235b80>"
      ]
     },
     "execution_count": 17,
     "metadata": {},
     "output_type": "execute_result"
    },
    {
     "data": {
      "image/png": "[encoded data removed]",
      "text/plain": [
       "<Figure size 432x288 with 1 Axes>"
      ]
     },
     "metadata": {
      "needs_background": "light"
     },
     "output_type": "display_data"
    }
   ],
   "source": [
    "# make a new quadratic line\n",
    "y = quadratic_line(x, 5, 2, 2)\n",
    "\n",
    "# add random noise\n",
    "y = y + np.random.normal(0, 30, 20)\n",
    "\n",
    "# make a scatter plot\n",
    "plt.scatter(x,y)"
   ]
  },
  {
   "cell_type": "code",
   "execution_count": 18,
   "metadata": {},
   "outputs": [
    {
     "name": "stdout",
     "output_type": "stream",
     "text": [
      "[ 5.35204536 -5.76093162 33.228516  ]\n",
      "[[ 3.37786704e-02 -7.09352065e-01  2.60095751e+00]\n",
      " [-7.09352065e-01  1.57881496e+01 -6.39835500e+01]\n",
      " [ 2.60095751e+00 -6.39835500e+01  3.28240779e+02]]\n"
     ]
    },
    {
     "data": {
      "text/plain": [
       "[<matplotlib.lines.Line2D at 0x7f7c3b29efd0>]"
      ]
     },
     "execution_count": 18,
     "metadata": {},
     "output_type": "execute_result"
    },
    {
     "data": {
      "image/png": "[encoded data removed]",
      "text/plain": [
       "<Figure size 432x288 with 1 Axes>"
      ]
     },
     "metadata": {
      "needs_background": "light"
     },
     "output_type": "display_data"
    }
   ],
   "source": [
    "# run the curve_fit function using our quadratic line function\n",
    "opt, cov = curve_fit(quadratic_line, x, y)\n",
    "\n",
    "# print the output of curve_fit\n",
    "print(opt)\n",
    "print(cov)\n",
    "\n",
    "# plot the (x, y) data points and the quadratic fit line\n",
    "plt.scatter(x,y)\n",
    "plt.plot(x, quadratic_line(x, opt[0], opt[1], opt[2]))"
   ]
  },
  {
   "cell_type": "markdown",
   "metadata": {},
   "source": [
    "Now let's repeat this for an expoenential line:"
   ]
  },
  {
   "cell_type": "code",
   "execution_count": 19,
   "metadata": {},
   "outputs": [
    {
     "data": {
      "text/plain": [
       "<matplotlib.collections.PathCollection at 0x7f7c588755e0>"
      ]
     },
     "execution_count": 19,
     "metadata": {},
     "output_type": "execute_result"
    },
    {
     "data": {
      "image/png": "[encoded data removed]",
      "text/plain": [
       "<Figure size 432x288 with 1 Axes>"
      ]
     },
     "metadata": {
      "needs_background": "light"
     },
     "output_type": "display_data"
    }
   ],
   "source": [
    "y = exponential_line(x, 5, 2, 2)\n",
    "y = y + np.random.normal(4, 30, 20)\n",
    "plt.scatter(x,y)"
   ]
  },
  {
   "cell_type": "code",
   "execution_count": 20,
   "metadata": {},
   "outputs": [
    {
     "name": "stderr",
     "output_type": "stream",
     "text": [
      "/var/folders/r0/547pgkzd2yj83fhrcvxlhlph0000gp/T/ipykernel_54343/3799848842.py:13: RuntimeWarning: overflow encountered in exp\n",
      "  y = a*np.exp(b*x) + c\n",
      "/var/folders/r0/547pgkzd2yj83fhrcvxlhlph0000gp/T/ipykernel_54343/3799848842.py:13: RuntimeWarning: overflow encountered in multiply\n",
      "  y = a*np.exp(b*x) + c\n",
      "/var/folders/r0/547pgkzd2yj83fhrcvxlhlph0000gp/T/ipykernel_54343/3799848842.py:13: RuntimeWarning: overflow encountered in exp\n",
      "  y = a*np.exp(b*x) + c\n",
      "/var/folders/r0/547pgkzd2yj83fhrcvxlhlph0000gp/T/ipykernel_54343/3799848842.py:13: RuntimeWarning: overflow encountered in multiply\n",
      "  y = a*np.exp(b*x) + c\n"
     ]
    },
    {
     "data": {
      "text/plain": [
       "(array([2.19199029, 2.00174051, 1.48501474]),\n",
       " array([[ 8.62521463e+03, -1.96917566e+02, -5.50196526e+10],\n",
       "        [-1.96917566e+02,  4.49593068e+00,  1.25607568e+09],\n",
       "        [-5.50196526e+10,  1.25607568e+09,  2.33332292e+33]]))"
      ]
     },
     "execution_count": 20,
     "metadata": {},
     "output_type": "execute_result"
    },
    {
     "data": {
      "image/png": "[encoded data removed]",
      "text/plain": [
       "<Figure size 432x288 with 1 Axes>"
      ]
     },
     "metadata": {
      "needs_background": "light"
     },
     "output_type": "display_data"
    }
   ],
   "source": [
    "opt, cov = curve_fit(exponential_line, x, y)\n",
    "\n",
    "plt.scatter(x,y)\n",
    "plt.plot(x, exponential_line(x, opt[0], opt[1], opt[2]))\n",
    "\n",
    "curve_fit(exponential_line, x, y)"
   ]
  },
  {
   "cell_type": "markdown",
   "metadata": {},
   "source": [
    "Now let's repeat this for a log line:"
   ]
  },
  {
   "cell_type": "code",
   "execution_count": 21,
   "metadata": {},
   "outputs": [
    {
     "data": {
      "text/plain": [
       "<matplotlib.collections.PathCollection at 0x7f7c58917190>"
      ]
     },
     "execution_count": 21,
     "metadata": {},
     "output_type": "execute_result"
    },
    {
     "data": {
      "image/png": "[encoded data removed]",
      "text/plain": [
       "<Figure size 432x288 with 1 Axes>"
      ]
     },
     "metadata": {
      "needs_background": "light"
     },
     "output_type": "display_data"
    }
   ],
   "source": [
    "y = log_line(x, 5, 0.5, 0.5)\n",
    "y = y + np.random.normal(1, 2, 20)\n",
    "plt.scatter(x,y)"
   ]
  },
  {
   "cell_type": "code",
   "execution_count": 22,
   "metadata": {},
   "outputs": [
    {
     "name": "stderr",
     "output_type": "stream",
     "text": [
      "/var/folders/r0/547pgkzd2yj83fhrcvxlhlph0000gp/T/ipykernel_54343/3799848842.py:20: RuntimeWarning: invalid value encountered in log\n",
      "  y = a*np.log(b*x) + c\n",
      "/var/folders/r0/547pgkzd2yj83fhrcvxlhlph0000gp/T/ipykernel_54343/3799848842.py:20: RuntimeWarning: invalid value encountered in log\n",
      "  y = a*np.log(b*x) + c\n"
     ]
    },
    {
     "data": {
      "text/plain": [
       "(array([  4.71186982,  11.49630388, -13.04752402]),\n",
       " array([[ 4.85698704e-01, -2.32416480e+06,  9.52578898e+05],\n",
       "        [-2.32416478e+06,  1.26148322e+15, -5.17030918e+14],\n",
       "        [ 9.52578891e+05, -5.17030918e+14,  2.11910049e+14]]))"
      ]
     },
     "execution_count": 22,
     "metadata": {},
     "output_type": "execute_result"
    },
    {
     "data": {
      "image/png": "[encoded data removed]",
      "text/plain": [
       "<Figure size 432x288 with 1 Axes>"
      ]
     },
     "metadata": {
      "needs_background": "light"
     },
     "output_type": "display_data"
    }
   ],
   "source": [
    "opt, cov = curve_fit(log_line, x, y)\n",
    "\n",
    "plt.scatter(x,y)\n",
    "plt.plot(x, log_line(x, opt[0], opt[1], opt[2]))\n",
    "\n",
    "curve_fit(log_line, x, y)"
   ]
  },
  {
   "cell_type": "markdown",
   "metadata": {},
   "source": [
    "Now lets's talk about error. To do this we will look at the R-squared values and the mean squared error. We can import functions for these from sklearn.metrics:"
   ]
  },
  {
   "cell_type": "code",
   "execution_count": 23,
   "metadata": {},
   "outputs": [],
   "source": [
    "from sklearn.metrics import mean_squared_error\n",
    "from sklearn.metrics import r2_score"
   ]
  },
  {
   "cell_type": "code",
   "execution_count": 28,
   "metadata": {},
   "outputs": [
    {
     "name": "stdout",
     "output_type": "stream",
     "text": [
      "0.7306609325870435\n",
      "5.135323115060979\n"
     ]
    }
   ],
   "source": [
    "# gets the predicted y values for each x\n",
    "y_pred = log_line(x, *opt)\n",
    "\n",
    "# prints the r-squared and mean squared error between actual y and predicted y\n",
    "print(r2_score(y, y_pred))\n",
    "print(mean_squared_error(y, y_pred))"
   ]
  },
  {
   "cell_type": "markdown",
   "metadata": {},
   "source": [
    "Our r-squared value will be between 0 and 1, with 0 being no relation between the data and fit line, and 1 being a perfect fit. This one is 0.73, so our line accounts for roughly 73% of our data, which is ok, but not very good. A good fit would be above 90% and exelent would be above 98%.\n",
    "\n",
    "Additionally, our mean squared error (MSE) is 5.13. This provides a measure of the average distance that our data points are away from the line. The closer to zero the better, but the significance of this error value also depends on the units being dealt with. For example, if something has an error of roughly 5 seconds, but the data that we are looking at is on the scale of days, then a 5 second MSE would be very small. However, if we were looking at something on the nanosecond time scale, then it would be an incredibly large error."
   ]
  },
  {
   "cell_type": "markdown",
   "metadata": {},
   "source": [
    "# Logistic Regression\n",
    "\n",
    "Now let's talk about what would happen if our data was binary, meaning that we only had two options like true/false, short/tall, or wet/dry. We will also be talking about how to split data into training and testing data."
   ]
  },
  {
   "cell_type": "code",
   "execution_count": 24,
   "metadata": {},
   "outputs": [],
   "source": [
    "from sklearn.model_selection import train_test_split\n",
    "from sklearn.linear_model import LogisticRegression\n",
    "from sklearn.metrics import classification_report, confusion_matrix"
   ]
  },
  {
   "cell_type": "code",
   "execution_count": 25,
   "metadata": {},
   "outputs": [],
   "source": [
    "df = pd.read_csv('life_exp.csv')"
   ]
  },
  {
   "cell_type": "code",
   "execution_count": 29,
   "metadata": {},
   "outputs": [
    {
     "data": {
      "text/html": [
       "<div>\n",
       "<style scoped>\n",
       "    .dataframe tbody tr th:only-of-type {\n",
       "        vertical-align: middle;\n",
       "    }\n",
       "\n",
       "    .dataframe tbody tr th {\n",
       "        vertical-align: top;\n",
       "    }\n",
       "\n",
       "    .dataframe thead th {\n",
       "        text-align: right;\n",
       "    }\n",
       "</style>\n",
       "<table border=\"1\" class=\"dataframe\">\n",
       "  <thead>\n",
       "    <tr style=\"text-align: right;\">\n",
       "      <th></th>\n",
       "      <th>Country</th>\n",
       "      <th>Year</th>\n",
       "      <th>Status</th>\n",
       "      <th>Status_binary</th>\n",
       "      <th>Lifeexp</th>\n",
       "      <th>Adultmortality</th>\n",
       "      <th>Infantdeaths</th>\n",
       "      <th>Alcohol</th>\n",
       "      <th>PercExpend</th>\n",
       "      <th>HepB</th>\n",
       "      <th>...</th>\n",
       "      <th>Polio</th>\n",
       "      <th>Totalexpend</th>\n",
       "      <th>Diphtheria</th>\n",
       "      <th>HIV/AIDS</th>\n",
       "      <th>GDP</th>\n",
       "      <th>Population</th>\n",
       "      <th>thinness1-19yrs</th>\n",
       "      <th>thinness5-9yrs</th>\n",
       "      <th>Incomecompofresources</th>\n",
       "      <th>Schooling</th>\n",
       "    </tr>\n",
       "  </thead>\n",
       "  <tbody>\n",
       "    <tr>\n",
       "      <th>0</th>\n",
       "      <td>Afghanistan</td>\n",
       "      <td>2015</td>\n",
       "      <td>Developing</td>\n",
       "      <td>0</td>\n",
       "      <td>65.0</td>\n",
       "      <td>263</td>\n",
       "      <td>62</td>\n",
       "      <td>0.01</td>\n",
       "      <td>71.279624</td>\n",
       "      <td>65.0</td>\n",
       "      <td>...</td>\n",
       "      <td>6.0</td>\n",
       "      <td>8.16</td>\n",
       "      <td>65.0</td>\n",
       "      <td>0.1</td>\n",
       "      <td>584.259210</td>\n",
       "      <td>33736494.0</td>\n",
       "      <td>17.2</td>\n",
       "      <td>17.3</td>\n",
       "      <td>0.479</td>\n",
       "      <td>10.1</td>\n",
       "    </tr>\n",
       "    <tr>\n",
       "      <th>1</th>\n",
       "      <td>Afghanistan</td>\n",
       "      <td>2014</td>\n",
       "      <td>Developing</td>\n",
       "      <td>0</td>\n",
       "      <td>59.9</td>\n",
       "      <td>271</td>\n",
       "      <td>64</td>\n",
       "      <td>0.01</td>\n",
       "      <td>73.523582</td>\n",
       "      <td>62.0</td>\n",
       "      <td>...</td>\n",
       "      <td>58.0</td>\n",
       "      <td>8.18</td>\n",
       "      <td>62.0</td>\n",
       "      <td>0.1</td>\n",
       "      <td>612.696514</td>\n",
       "      <td>327582.0</td>\n",
       "      <td>17.5</td>\n",
       "      <td>17.5</td>\n",
       "      <td>0.476</td>\n",
       "      <td>10.0</td>\n",
       "    </tr>\n",
       "    <tr>\n",
       "      <th>2</th>\n",
       "      <td>Afghanistan</td>\n",
       "      <td>2013</td>\n",
       "      <td>Developing</td>\n",
       "      <td>0</td>\n",
       "      <td>59.9</td>\n",
       "      <td>268</td>\n",
       "      <td>66</td>\n",
       "      <td>0.01</td>\n",
       "      <td>73.219243</td>\n",
       "      <td>64.0</td>\n",
       "      <td>...</td>\n",
       "      <td>62.0</td>\n",
       "      <td>8.13</td>\n",
       "      <td>64.0</td>\n",
       "      <td>0.1</td>\n",
       "      <td>631.744976</td>\n",
       "      <td>31731688.0</td>\n",
       "      <td>17.7</td>\n",
       "      <td>17.7</td>\n",
       "      <td>0.470</td>\n",
       "      <td>9.9</td>\n",
       "    </tr>\n",
       "    <tr>\n",
       "      <th>3</th>\n",
       "      <td>Afghanistan</td>\n",
       "      <td>2012</td>\n",
       "      <td>Developing</td>\n",
       "      <td>0</td>\n",
       "      <td>59.5</td>\n",
       "      <td>272</td>\n",
       "      <td>69</td>\n",
       "      <td>0.01</td>\n",
       "      <td>78.184215</td>\n",
       "      <td>67.0</td>\n",
       "      <td>...</td>\n",
       "      <td>67.0</td>\n",
       "      <td>8.52</td>\n",
       "      <td>67.0</td>\n",
       "      <td>0.1</td>\n",
       "      <td>669.959000</td>\n",
       "      <td>3696958.0</td>\n",
       "      <td>17.9</td>\n",
       "      <td>18.0</td>\n",
       "      <td>0.463</td>\n",
       "      <td>9.8</td>\n",
       "    </tr>\n",
       "    <tr>\n",
       "      <th>4</th>\n",
       "      <td>Afghanistan</td>\n",
       "      <td>2011</td>\n",
       "      <td>Developing</td>\n",
       "      <td>0</td>\n",
       "      <td>59.2</td>\n",
       "      <td>275</td>\n",
       "      <td>71</td>\n",
       "      <td>0.01</td>\n",
       "      <td>7.097109</td>\n",
       "      <td>68.0</td>\n",
       "      <td>...</td>\n",
       "      <td>68.0</td>\n",
       "      <td>7.87</td>\n",
       "      <td>68.0</td>\n",
       "      <td>0.1</td>\n",
       "      <td>63.537231</td>\n",
       "      <td>2978599.0</td>\n",
       "      <td>18.2</td>\n",
       "      <td>18.2</td>\n",
       "      <td>0.454</td>\n",
       "      <td>9.5</td>\n",
       "    </tr>\n",
       "  </tbody>\n",
       "</table>\n",
       "<p>5 rows × 23 columns</p>\n",
       "</div>"
      ],
      "text/plain": [
       "       Country  Year      Status  Status_binary  Lifeexp  Adultmortality  \\\n",
       "0  Afghanistan  2015  Developing              0     65.0             263   \n",
       "1  Afghanistan  2014  Developing              0     59.9             271   \n",
       "2  Afghanistan  2013  Developing              0     59.9             268   \n",
       "3  Afghanistan  2012  Developing              0     59.5             272   \n",
       "4  Afghanistan  2011  Developing              0     59.2             275   \n",
       "\n",
       "   Infantdeaths  Alcohol  PercExpend  HepB  ...  Polio  Totalexpend  \\\n",
       "0            62     0.01   71.279624  65.0  ...    6.0         8.16   \n",
       "1            64     0.01   73.523582  62.0  ...   58.0         8.18   \n",
       "2            66     0.01   73.219243  64.0  ...   62.0         8.13   \n",
       "3            69     0.01   78.184215  67.0  ...   67.0         8.52   \n",
       "4            71     0.01    7.097109  68.0  ...   68.0         7.87   \n",
       "\n",
       "   Diphtheria  HIV/AIDS         GDP  Population  thinness1-19yrs  \\\n",
       "0        65.0       0.1  584.259210  33736494.0             17.2   \n",
       "1        62.0       0.1  612.696514    327582.0             17.5   \n",
       "2        64.0       0.1  631.744976  31731688.0             17.7   \n",
       "3        67.0       0.1  669.959000   3696958.0             17.9   \n",
       "4        68.0       0.1   63.537231   2978599.0             18.2   \n",
       "\n",
       "   thinness5-9yrs  Incomecompofresources  Schooling  \n",
       "0            17.3                  0.479       10.1  \n",
       "1            17.5                  0.476       10.0  \n",
       "2            17.7                  0.470        9.9  \n",
       "3            18.0                  0.463        9.8  \n",
       "4            18.2                  0.454        9.5  \n",
       "\n",
       "[5 rows x 23 columns]"
      ]
     },
     "execution_count": 29,
     "metadata": {},
     "output_type": "execute_result"
    }
   ],
   "source": [
    "df.head()"
   ]
  },
  {
   "cell_type": "markdown",
   "metadata": {},
   "source": [
    "We are going to be focusing on Lifeexp and Status_binary, so let's plot them:"
   ]
  },
  {
   "cell_type": "code",
   "execution_count": 57,
   "metadata": {},
   "outputs": [
    {
     "data": {
      "text/plain": [
       "<matplotlib.collections.PathCollection at 0x7f7c083d2400>"
      ]
     },
     "execution_count": 57,
     "metadata": {},
     "output_type": "execute_result"
    },
    {
     "data": {
      "image/png": "[encoded data removed]",
      "text/plain": [
       "<Figure size 432x288 with 1 Axes>"
      ]
     },
     "metadata": {
      "needs_background": "light"
     },
     "output_type": "display_data"
    }
   ],
   "source": [
    "plt.scatter(df[\"Lifeexp\"], df[\"Status_binary\"])"
   ]
  },
  {
   "cell_type": "markdown",
   "metadata": {},
   "source": [
    "Now we are going to separate our data into a training and a testing set, at an 80:20 ratio."
   ]
  },
  {
   "cell_type": "code",
   "execution_count": 73,
   "metadata": {},
   "outputs": [],
   "source": [
    "x_train,x_test,y_train,y_test=train_test_split(df[\"Lifeexp\"],df[\"Status_binary\"],test_size=0.2,random_state=0)"
   ]
  },
  {
   "cell_type": "markdown",
   "metadata": {},
   "source": [
    "Additionally, we need to make our x data into columns instead of rows for this model. We can do this by reshaping them like this:"
   ]
  },
  {
   "cell_type": "code",
   "execution_count": 74,
   "metadata": {},
   "outputs": [],
   "source": [
    "x_train = np.array(x_train).reshape(-1,1)\n",
    "x_test = np.array(x_test).reshape(-1,1)"
   ]
  },
  {
   "cell_type": "markdown",
   "metadata": {},
   "source": [
    "Now we can create the LogisticRegression model and fit our data."
   ]
  },
  {
   "cell_type": "code",
   "execution_count": 75,
   "metadata": {},
   "outputs": [],
   "source": [
    "logreg = LogisticRegression()"
   ]
  },
  {
   "cell_type": "code",
   "execution_count": 76,
   "metadata": {},
   "outputs": [
    {
     "data": {
      "text/plain": [
       "LogisticRegression()"
      ]
     },
     "execution_count": 76,
     "metadata": {},
     "output_type": "execute_result"
    }
   ],
   "source": [
    "logreg.fit(x_train,y_train)"
   ]
  },
  {
   "cell_type": "markdown",
   "metadata": {},
   "source": [
    "Now, let's graph what this model looks like:"
   ]
  },
  {
   "cell_type": "code",
   "execution_count": 77,
   "metadata": {},
   "outputs": [],
   "source": [
    "from scipy.special import expit"
   ]
  },
  {
   "cell_type": "code",
   "execution_count": 87,
   "metadata": {},
   "outputs": [],
   "source": [
    "x_line = np.linspace(30,110,1000)\n",
    "y_line = x_line * logreg.coef_ + logreg.intercept_"
   ]
  },
  {
   "cell_type": "code",
   "execution_count": 88,
   "metadata": {},
   "outputs": [],
   "source": [
    "sigmoid = expit(y_line)"
   ]
  },
  {
   "cell_type": "code",
   "execution_count": 93,
   "metadata": {},
   "outputs": [
    {
     "data": {
      "text/plain": [
       "Text(0, 0.5, 'Status binary')"
      ]
     },
     "execution_count": 93,
     "metadata": {},
     "output_type": "execute_result"
    },
    {
     "data": {
      "image/png": "[encoded data removed]",
      "text/plain": [
       "<Figure size 432x288 with 1 Axes>"
      ]
     },
     "metadata": {
      "needs_background": "light"
     },
     "output_type": "display_data"
    }
   ],
   "source": [
    "plt.scatter(x_train, y_train, label=\"training data\")\n",
    "plt.scatter(x_test, y_test, label=\"testing data\")\n",
    "plt.plot(x_line,sigmoid.ravel(),c=\"green\", label = \"logistic fit\")\n",
    "plt.axhline(.5, color=\"red\", label=\"cutoff\")\n",
    "plt.legend()\n",
    "plt.xlabel(\"Life expectancy\")\n",
    "plt.ylabel(\"Status binary\")"
   ]
  },
  {
   "cell_type": "markdown",
   "metadata": {},
   "source": [
    "Now lets run our test set and see how well our training set can predict it:"
   ]
  },
  {
   "cell_type": "code",
   "execution_count": 97,
   "metadata": {},
   "outputs": [],
   "source": [
    "y_pred = logreg.predict(x_test)"
   ]
  },
  {
   "cell_type": "code",
   "execution_count": 100,
   "metadata": {},
   "outputs": [
    {
     "name": "stdout",
     "output_type": "stream",
     "text": [
      "0.17436585521691916\n",
      "0.10462776659959759\n"
     ]
    }
   ],
   "source": [
    "print(r2_score(y_test, y_pred))\n",
    "print(mean_squared_error(y_test, y_pred))"
   ]
  },
  {
   "cell_type": "markdown",
   "metadata": {},
   "source": [
    "So, we can see that this does a pretty poor job of correctly predicting this. Which makes sense looking at this plot:"
   ]
  },
  {
   "cell_type": "code",
   "execution_count": 113,
   "metadata": {},
   "outputs": [
    {
     "data": {
      "text/plain": [
       "Text(85, 0.05, '<--False Positive-->')"
      ]
     },
     "execution_count": 113,
     "metadata": {},
     "output_type": "execute_result"
    },
    {
     "data": {
      "image/png": "[encoded data removed]",
      "text/plain": [
       "<Figure size 432x288 with 1 Axes>"
      ]
     },
     "metadata": {
      "needs_background": "light"
     },
     "output_type": "display_data"
    }
   ],
   "source": [
    "# 1. Plot the Species on y-axis and Sepal Length on x-axis\n",
    "plt.scatter(df[\"Lifeexp\"], df[\"Status_binary\"], c=df[\"Status_binary\"])\n",
    " \n",
    "# 2. Plot the logistic regression curve based on the sigmoid function\n",
    "# ravel to convert the 2-d array to a flat array\n",
    "plt.plot(x_line,sigmoid.ravel(),c=\"green\", label = \"logistic fit\")\n",
    "# plt.scatter(X_test[:,0],probabilities)\n",
    "  \n",
    "# Draw a horizontal line (in red) indicating the threshold (cutoff) probability\n",
    "plt.axhline(.5, color=\"red\", label=\"cutoff\")\n",
    " \n",
    "# Draw a vertical line (in purple) indicating the threshold (cutoff) sepal length\n",
    "plt.axvline(79, color=\"purple\", label=\"\")\n",
    " \n",
    "# Use text to show the Negative and positive values\n",
    "plt.text(85,0.9,\"<--True Negative-->\")\n",
    "plt.text(40,0.9,\"<--False Negative-->\")\n",
    "plt.text(40,0.05,\"<--True Positive-->\")\n",
    "plt.text(85,0.05,\"<--False Positive-->\")"
   ]
  },
  {
   "cell_type": "markdown",
   "metadata": {},
   "source": [
    "Now lets look at the confusion matrix:"
   ]
  },
  {
   "cell_type": "code",
   "execution_count": 114,
   "metadata": {},
   "outputs": [],
   "source": [
    "from sklearn import metrics"
   ]
  },
  {
   "cell_type": "code",
   "execution_count": 115,
   "metadata": {},
   "outputs": [
    {
     "name": "stdout",
     "output_type": "stream",
     "text": [
      "[[406  17]\n",
      " [ 35  39]]\n"
     ]
    }
   ],
   "source": [
    "conf_matrix = metrics.confusion_matrix(y_test, y_pred)\n",
    "print(conf_matrix)"
   ]
  },
  {
   "cell_type": "code",
   "execution_count": 116,
   "metadata": {},
   "outputs": [
    {
     "data": {
      "image/png": "[encoded data removed]",
      "text/plain": [
       "<Figure size 540x540 with 1 Axes>"
      ]
     },
     "metadata": {
      "needs_background": "light"
     },
     "output_type": "display_data"
    }
   ],
   "source": [
    "fig, ax = plt.subplots(figsize=(7.5, 7.5))\n",
    "ax.matshow(conf_matrix, cmap=plt.cm.Blues, alpha=0.3)\n",
    "for i in range(conf_matrix.shape[0]):\n",
    "    for j in range(conf_matrix.shape[1]):\n",
    "        ax.text(x=j, y=i,s=conf_matrix[i, j], va='center', ha='center', size='xx-large')\n",
    " \n",
    "plt.xlabel('Predictions', fontsize=18)\n",
    "plt.ylabel('Actuals', fontsize=18)\n",
    "plt.title('Confusion Matrix', fontsize=18)\n",
    "plt.show()"
   ]
  },
  {
   "cell_type": "markdown",
   "metadata": {},
   "source": [
    "This shows us that for 0, we predict 0 correctly 406 times. However, for 1 we only predict 1 correct 39 times. Essentially, this model is skewed towards predicting 0, which makes it unreliable for predicting 1.\n",
    "\n",
    "Now let's look at the cassification report."
   ]
  },
  {
   "cell_type": "code",
   "execution_count": 122,
   "metadata": {},
   "outputs": [
    {
     "name": "stdout",
     "output_type": "stream",
     "text": [
      "              precision    recall  f1-score   support\n",
      "\n",
      "           0       0.92      0.96      0.94       423\n",
      "           1       0.70      0.53      0.60        74\n",
      "\n",
      "    accuracy                           0.90       497\n",
      "   macro avg       0.81      0.74      0.77       497\n",
      "weighted avg       0.89      0.90      0.89       497\n",
      "\n"
     ]
    }
   ],
   "source": [
    "print(classification_report(y_test, y_pred))"
   ]
  },
  {
   "cell_type": "code",
   "execution_count": 123,
   "metadata": {},
   "outputs": [
    {
     "name": "stdout",
     "output_type": "stream",
     "text": [
      "Accuracy: 0.8953722334004024\n",
      "Precision: 0.6964285714285714\n",
      "Recall: 0.527027027027027\n"
     ]
    }
   ],
   "source": [
    "print(\"Accuracy:\",metrics.accuracy_score(y_test, y_pred))\n",
    "print(\"Precision:\",metrics.precision_score(y_test, y_pred))\n",
    "print(\"Recall:\",metrics.recall_score(y_test, y_pred))"
   ]
  },
  {
   "cell_type": "markdown",
   "metadata": {},
   "source": [
    "What do these different things all mean?\n",
    "\n",
    "**Precision**: Percentage of correct positive predictions relative to total positive predictions.\n",
    "\n",
    "**Recall**: Percentage of correct positive predictions relative to total actual positives.\n",
    "\n",
    "**F1 Score**: A weighted harmonic mean of precision and recall. The closer to 1, the better the model.\n",
    "\n",
    "        F1 Score = 2 * (Precision * Recall) / (Precision + Recall)\n",
    "\n",
    "Using these three metrics, we can understand how well a given classification model is able to predict the outcomes for some response variable."
   ]
  },
  {
   "cell_type": "code",
   "execution_count": null,
   "metadata": {},
   "outputs": [],
   "source": []
  }
 ],
 "metadata": {
  "kernelspec": {
   "display_name": "Python 3 (ipykernel)",
   "language": "python",
   "name": "python3"
  },
  "language_info": {
   "codemirror_mode": {
    "name": "ipython",
    "version": 3
   },
   "file_extension": ".py",
   "mimetype": "text/x-python",
   "name": "python",
   "nbconvert_exporter": "python",
   "pygments_lexer": "ipython3",
   "version": "3.9.12"
  }
 },
 "nbformat": 4,
 "nbformat_minor": 2
}
